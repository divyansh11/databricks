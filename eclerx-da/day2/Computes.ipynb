{
 "cells": [
  {
   "cell_type": "code",
   "execution_count": 0,
   "metadata": {
    "application/vnd.databricks.v1+cell": {
     "cellMetadata": {},
     "inputWidgets": {},
     "nuid": "45ee9824-f22a-4e26-a17f-f4dea5aec107",
     "showTitle": false,
     "tableResultSettingsMap": {},
     "title": ""
    }
   },
   "outputs": [],
   "source": [
    "Premium (Entreprise )/ Paid account\n",
    "1. All Purpose compute: Development, Interactive, Colabotory envirnonment : owning a car\n",
    "2. Job Compute: Automatation: Rapido, ola, uber\n",
    "3. Serverless SQL WH\n",
    "4. Serverless\n",
    "\n",
    "\n",
    "Free Edition \n",
    "1. Serverless SQL WH\n",
    "2. Serverless\n"
   ]
  },
  {
   "cell_type": "code",
   "execution_count": 0,
   "metadata": {
    "application/vnd.databricks.v1+cell": {
     "cellMetadata": {},
     "inputWidgets": {},
     "nuid": "b7e111fb-9818-47b3-9a57-c17ae7e39f3f",
     "showTitle": false,
     "tableResultSettingsMap": {},
     "title": ""
    }
   },
   "outputs": [],
   "source": [
    "Big Data Format:\n",
    "source\n",
    "1.csv\n",
    "2.Json\n",
    "3.Parquet\n",
    "4.xml\n",
    "5.avro\n",
    "6.orc\n",
    "7.html\n",
    "\n",
    "\n",
    "\n",
    "target/ Destination:\n",
    "parquet\n",
    "\n",
    "\n",
    "\n",
    "1. Columnar data\n",
    "2. compressed (snappy, gzip)\n",
    "\n",
    "\n",
    "1 gb (csv)\n",
    "\n",
    "(50-55%, 80%-90%, upto 97% )\n",
    "\n",
    "parquet: 17 mb\n",
    "cons: Does not support ACID."
   ]
  },
  {
   "cell_type": "code",
   "execution_count": 0,
   "metadata": {
    "application/vnd.databricks.v1+cell": {
     "cellMetadata": {},
     "inputWidgets": {},
     "nuid": "25d94ae0-73ef-48c3-a63a-e4938541ee90",
     "showTitle": false,
     "tableResultSettingsMap": {},
     "title": ""
    }
   },
   "outputs": [],
   "source": [
    "A: Atomicity\n",
    "C: consistency\n",
    "I: Isolation\n",
    "D: Durability"
   ]
  },
  {
   "cell_type": "code",
   "execution_count": 0,
   "metadata": {
    "application/vnd.databricks.v1+cell": {
     "cellMetadata": {},
     "inputWidgets": {},
     "nuid": "3c791d7c-4c37-44e2-862c-c29629e48a85",
     "showTitle": false,
     "tableResultSettingsMap": {},
     "title": ""
    }
   },
   "outputs": [],
   "source": [
    "Advance table formats( supports ACID)\n",
    "1. delta lake (extension of parquet)open source --- Databricks, Microsoft Fabric\n",
    "2. Iceberg (extension of parquet) open source-- Snowflake\n",
    "3. Hudi "
   ]
  }
 ],
 "metadata": {
  "application/vnd.databricks.v1+notebook": {
   "computePreferences": null,
   "dashboards": [],
   "environmentMetadata": {
    "base_environment": "",
    "environment_version": "2"
   },
   "inputWidgetPreferences": null,
   "language": "sql",
   "notebookMetadata": {
    "pythonIndentUnit": 4
   },
   "notebookName": "Computes",
   "widgets": {}
  },
  "language_info": {
   "name": "sql"
  }
 },
 "nbformat": 4,
 "nbformat_minor": 0
}
